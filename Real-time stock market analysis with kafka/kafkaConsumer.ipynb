{
 "cells": [
  {
   "cell_type": "markdown",
   "metadata": {},
   "source": [
    "# Consumer\n",
    "El proposito del consumer es recoger la información y enviarla al bucket "
   ]
  },
  {
   "cell_type": "code",
   "execution_count": 1,
   "metadata": {},
   "outputs": [
    {
     "name": "stderr",
     "output_type": "stream",
     "text": [
      "UsageError: Line magic function `%aws` not found.\n"
     ]
    }
   ],
   "source": [
    "%aws configure"
   ]
  },
  {
   "cell_type": "code",
   "execution_count": null,
   "metadata": {},
   "outputs": [
    {
     "name": "stdout",
     "output_type": "stream",
     "text": [
      "Requirement already satisfied: s3fs in c:\\users\\usuario\\documents\\repositorios\\aws-projects\\.venv\\lib\\site-packages (2025.2.0)\n",
      "Requirement already satisfied: aiobotocore<3.0.0,>=2.5.4 in c:\\users\\usuario\\documents\\repositorios\\aws-projects\\.venv\\lib\\site-packages (from s3fs) (2.20.0)\n",
      "Requirement already satisfied: fsspec==2025.2.0.* in c:\\users\\usuario\\documents\\repositorios\\aws-projects\\.venv\\lib\\site-packages (from s3fs) (2025.2.0)\n",
      "Requirement already satisfied: aiohttp!=4.0.0a0,!=4.0.0a1 in c:\\users\\usuario\\documents\\repositorios\\aws-projects\\.venv\\lib\\site-packages (from s3fs) (3.11.12)\n",
      "Requirement already satisfied: aioitertools<1.0.0,>=0.5.1 in c:\\users\\usuario\\documents\\repositorios\\aws-projects\\.venv\\lib\\site-packages (from aiobotocore<3.0.0,>=2.5.4->s3fs) (0.12.0)\n",
      "Requirement already satisfied: botocore<1.36.24,>=1.36.20 in c:\\users\\usuario\\documents\\repositorios\\aws-projects\\.venv\\lib\\site-packages (from aiobotocore<3.0.0,>=2.5.4->s3fs) (1.36.23)\n",
      "Requirement already satisfied: python-dateutil<3.0.0,>=2.1 in c:\\users\\usuario\\documents\\repositorios\\aws-projects\\.venv\\lib\\site-packages (from aiobotocore<3.0.0,>=2.5.4->s3fs) (2.9.0.post0)\n",
      "Requirement already satisfied: jmespath<2.0.0,>=0.7.1 in c:\\users\\usuario\\documents\\repositorios\\aws-projects\\.venv\\lib\\site-packages (from aiobotocore<3.0.0,>=2.5.4->s3fs) (1.0.1)\n",
      "Requirement already satisfied: multidict<7.0.0,>=6.0.0 in c:\\users\\usuario\\documents\\repositorios\\aws-projects\\.venv\\lib\\site-packages (from aiobotocore<3.0.0,>=2.5.4->s3fs) (6.1.0)\n",
      "Requirement already satisfied: urllib3!=2.2.0,<3,>=1.25.4 in c:\\users\\usuario\\documents\\repositorios\\aws-projects\\.venv\\lib\\site-packages (from aiobotocore<3.0.0,>=2.5.4->s3fs) (2.3.0)\n",
      "Requirement already satisfied: wrapt<2.0.0,>=1.10.10 in c:\\users\\usuario\\documents\\repositorios\\aws-projects\\.venv\\lib\\site-packages (from aiobotocore<3.0.0,>=2.5.4->s3fs) (1.17.2)\n",
      "Requirement already satisfied: aiohappyeyeballs>=2.3.0 in c:\\users\\usuario\\documents\\repositorios\\aws-projects\\.venv\\lib\\site-packages (from aiohttp!=4.0.0a0,!=4.0.0a1->s3fs) (2.4.6)\n",
      "Requirement already satisfied: aiosignal>=1.1.2 in c:\\users\\usuario\\documents\\repositorios\\aws-projects\\.venv\\lib\\site-packages (from aiohttp!=4.0.0a0,!=4.0.0a1->s3fs) (1.3.2)\n",
      "Requirement already satisfied: attrs>=17.3.0 in c:\\users\\usuario\\documents\\repositorios\\aws-projects\\.venv\\lib\\site-packages (from aiohttp!=4.0.0a0,!=4.0.0a1->s3fs) (25.1.0)\n",
      "Requirement already satisfied: frozenlist>=1.1.1 in c:\\users\\usuario\\documents\\repositorios\\aws-projects\\.venv\\lib\\site-packages (from aiohttp!=4.0.0a0,!=4.0.0a1->s3fs) (1.5.0)\n",
      "Requirement already satisfied: propcache>=0.2.0 in c:\\users\\usuario\\documents\\repositorios\\aws-projects\\.venv\\lib\\site-packages (from aiohttp!=4.0.0a0,!=4.0.0a1->s3fs) (0.2.1)\n",
      "Requirement already satisfied: yarl<2.0,>=1.17.0 in c:\\users\\usuario\\documents\\repositorios\\aws-projects\\.venv\\lib\\site-packages (from aiohttp!=4.0.0a0,!=4.0.0a1->s3fs) (1.18.3)\n",
      "Requirement already satisfied: six>=1.5 in c:\\users\\usuario\\documents\\repositorios\\aws-projects\\.venv\\lib\\site-packages (from python-dateutil<3.0.0,>=2.1->aiobotocore<3.0.0,>=2.5.4->s3fs) (1.17.0)\n",
      "Requirement already satisfied: idna>=2.0 in c:\\users\\usuario\\documents\\repositorios\\aws-projects\\.venv\\lib\\site-packages (from yarl<2.0,>=1.17.0->aiohttp!=4.0.0a0,!=4.0.0a1->s3fs) (3.10)\n",
      "Note: you may need to restart the kernel to use updated packages.\n",
      "Requirement already satisfied: six in c:\\users\\usuario\\documents\\repositorios\\aws-projects\\.venv\\lib\\site-packages (1.17.0)\n",
      "Note: you may need to restart the kernel to use updated packages.\n",
      "Requirement already satisfied: kafka-python in c:\\users\\usuario\\documents\\repositorios\\aws-projects\\.venv\\lib\\site-packages (2.0.3)\n",
      "Note: you may need to restart the kernel to use updated packages.\n"
     ]
    }
   ],
   "source": [
    "%pip install s3fs\n",
    "%pip install six\n",
    "%pip install kafka-python"
   ]
  },
  {
   "cell_type": "code",
   "execution_count": null,
   "metadata": {},
   "outputs": [
    {
     "name": "stdout",
     "output_type": "stream",
     "text": [
      "Package           Version\n",
      "----------------- -----------\n",
      "aiobotocore       2.20.0\n",
      "aiohappyeyeballs  2.4.6\n",
      "aiohttp           3.11.12\n",
      "aioitertools      0.12.0\n",
      "aiosignal         1.3.2\n",
      "asttokens         3.0.0\n",
      "attrs             25.1.0\n",
      "botocore          1.36.23\n",
      "colorama          0.4.6\n",
      "comm              0.2.2\n",
      "debugpy           1.8.12\n",
      "decorator         5.1.1\n",
      "executing         2.2.0\n",
      "frozenlist        1.5.0\n",
      "fsspec            2025.2.0\n",
      "idna              3.10\n",
      "ipykernel         6.29.5\n",
      "ipython           8.32.0\n",
      "jedi              0.19.2\n",
      "jmespath          1.0.1\n",
      "jupyter_client    8.6.3\n",
      "jupyter_core      5.7.2\n",
      "kafka-python      2.0.3\n",
      "matplotlib-inline 0.1.7\n",
      "multidict         6.1.0\n",
      "nest-asyncio      1.6.0\n",
      "packaging         24.2\n",
      "parso             0.8.4\n",
      "pip               25.0.1\n",
      "platformdirs      4.3.6\n",
      "prompt_toolkit    3.0.50\n",
      "propcache         0.2.1\n",
      "psutil            7.0.0\n",
      "pure_eval         0.2.3\n",
      "Pygments          2.19.1\n",
      "python-dateutil   2.9.0.post0\n",
      "pywin32           308\n",
      "pyzmq             26.2.1\n",
      "s3fs              2025.2.0\n",
      "six               1.17.0\n",
      "stack-data        0.6.3\n",
      "tornado           6.4.2\n",
      "traitlets         5.14.3\n",
      "urllib3           2.3.0\n",
      "wcwidth           0.2.13\n",
      "wrapt             1.17.2\n",
      "yarl              1.18.3\n",
      "Note: you may need to restart the kernel to use updated packages.\n"
     ]
    }
   ],
   "source": [
    "%pip list"
   ]
  },
  {
   "cell_type": "code",
   "execution_count": 3,
   "metadata": {},
   "outputs": [],
   "source": [
    "from kafka import KafkaConsumer\n",
    "from time import sleep\n",
    "from json import dumps, loads\n",
    "import json\n",
    "from s3fs import S3FileSystem"
   ]
  },
  {
   "cell_type": "code",
   "execution_count": 4,
   "metadata": {},
   "outputs": [],
   "source": [
    "\n",
    "consumer = KafkaConsumer(\n",
    "    'demo_testing2',\n",
    "     bootstrap_servers=['52.15.244.99:9092'], \n",
    "    value_deserializer=lambda x: loads(x.decode('utf-8')))"
   ]
  },
  {
   "cell_type": "code",
   "execution_count": 5,
   "metadata": {},
   "outputs": [],
   "source": [
    "s3 = S3FileSystem()"
   ]
  },
  {
   "cell_type": "code",
   "execution_count": null,
   "metadata": {},
   "outputs": [
    {
     "name": "stdout",
     "output_type": "stream",
     "text": [
      "0\n",
      "1\n",
      "2\n",
      "3\n",
      "4\n",
      "5\n",
      "6\n",
      "7\n",
      "8\n",
      "9\n",
      "10\n",
      "11\n",
      "12\n",
      "13\n",
      "14\n",
      "15\n"
     ]
    }
   ],
   "source": [
    "for count, i in enumerate(consumer):\n",
    "    print(count)\n",
    "    with s3.open(\"s3://kafka-stock-market-bucket-jv/stock_market_{}.json\".format(count), 'w') as file:\n",
    "        json.dump(i.value, file)    "
   ]
  }
 ],
 "metadata": {
  "kernelspec": {
   "display_name": ".venv",
   "language": "python",
   "name": "python3"
  },
  "language_info": {
   "codemirror_mode": {
    "name": "ipython",
    "version": 3
   },
   "file_extension": ".py",
   "mimetype": "text/x-python",
   "name": "python",
   "nbconvert_exporter": "python",
   "pygments_lexer": "ipython3",
   "version": "3.12.5"
  }
 },
 "nbformat": 4,
 "nbformat_minor": 2
}
